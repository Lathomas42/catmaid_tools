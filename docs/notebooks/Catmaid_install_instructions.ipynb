{
 "cells": [
  {
   "cell_type": "markdown",
   "metadata": {},
   "source": [
    "# Installation and Brief Introduction to Catmaid"
   ]
  },
  {
   "cell_type": "markdown",
   "metadata": {},
   "source": [
    "The first thing you will need to run catmaid is a github account. Navigate to www.github.com on a web browser and create an account. Send an email to David, Brett, or Wei with your username. They will give you access to the catmaid_tools repo. (Repo is short for repository, which is where all the files are stored)"
   ]
  },
  {
   "cell_type": "markdown",
   "metadata": {},
   "source": [
    "### Forking the catmaid_tools repo\n"
   ]
  },
  {
   "cell_type": "markdown",
   "metadata": {},
   "source": [
    "Once you have access to catmaid_tools, you will need to create your own version of the files. This is called forking a repository which means that any changes you make do not affect the main catmaid_tools repository until approved by someone else. The process of approval is called a pull request.\n",
    "\n",
    "To fork, first navigate to https://github.com/htem/catmaid_tools\n",
    "\n",
    "Ensure that you are logged in to your account, and then click on the 'Fork' button in the top right of the page. This shoulld be located under your account picture. A window will pop up asking where to fork the repository. Select the box with your username. You now have your own fork of catmaid_tools!"
   ]
  },
  {
   "cell_type": "markdown",
   "metadata": {},
   "source": [
    "### Cloning your fork of catmaid_tools"
   ]
  },
  {
   "cell_type": "markdown",
   "metadata": {},
   "source": [
    "Now that you have your own fork of catmaid_tools, you will need to download those files onto your computer. This is called cloning a repository.\n",
    "\n",
    "In the terminal app, navigate using the 'cd' command to the location that you want the files to be stored. Once there, run the command:\n",
    "\n",
    "'git clone https://github.com/YOUR_USERNAME/catmaid_tools.git'\n",
    "\n",
    "If done correctly, you should now see the directory catmaid_tools by using the 'ls' command in the terminal."
   ]
  },
  {
   "cell_type": "markdown",
   "metadata": {},
   "source": [
    "### Installing catmaid_tools"
   ]
  },
  {
   "cell_type": "markdown",
   "metadata": {},
   "source": [
    "Lastly, before you can start interacting wtih catmaid_tools, you will need to run the setup.py script. This will install the dependencies required by catmaid_tools, and allow you to interact with catmaid!\n",
    "\n",
    "Navigate into your catmaid_tools directory in the terminal app. Once there, run this command to intall catmaid:\n",
    "\n",
    "python setup.py develop\n",
    "\n",
    "Now you should have catmaid installed on your computer."
   ]
  },
  {
   "cell_type": "markdown",
   "metadata": {
    "collapsed": true
   },
   "source": [
    "# Interacting with catmaid"
   ]
  },
  {
   "cell_type": "markdown",
   "metadata": {},
   "source": [
    "Next we are going to import catmaid and create a connection to a specified server. To start, launch python in terminal."
   ]
  },
  {
   "cell_type": "code",
   "execution_count": null,
   "metadata": {
    "collapsed": false
   },
   "outputs": [],
   "source": [
    "import catmaid #This imports the catmaid module"
   ]
  },
  {
   "cell_type": "markdown",
   "metadata": {
    "collapsed": true
   },
   "source": [
    "Now that the catmaid module is loaded, we can connect to a catmaid server with catmaid.connect(). This will promt the user to input a catmaid server, a project name, a username, and a password. We will name this connection 'c'."
   ]
  },
  {
   "cell_type": "code",
   "execution_count": null,
   "metadata": {
    "collapsed": false
   },
   "outputs": [],
   "source": [
    "c = catmaid.connect() #This creates a connection to a catmaid server.\n",
    "                      #Input your server, project, username, and password when prompted"
   ]
  },
  {
   "cell_type": "markdown",
   "metadata": {},
   "source": [
    "After creating the connection to our catmaid server, we will want to have that connection to be our source, which will allow us to pull data from the server. We will name this source 'src'."
   ]
  },
  {
   "cell_type": "code",
   "execution_count": null,
   "metadata": {
    "collapsed": true
   },
   "outputs": [],
   "source": [
    "src = catmaid.get_source(c) #Get the source of the catmaid server"
   ]
  },
  {
   "cell_type": "code",
   "execution_count": null,
   "metadata": {
    "collapsed": false
   },
   "outputs": [],
   "source": [
    "src #Tests if the source is active"
   ]
  },
  {
   "cell_type": "markdown",
   "metadata": {},
   "source": [
    "Now we have a working connection to the catmaid server, and can pull information from the server, such as skeleton ids which will then allow us to grab the neuron id and look at attributes of the neuron. To pull information from the server, we use the source 'src' "
   ]
  },
  {
   "cell_type": "code",
   "execution_count": null,
   "metadata": {
    "collapsed": false
   },
   "outputs": [],
   "source": [
    "src.skeleton_ids() #This will pull a list of all skeleton IDs"
   ]
  },
  {
   "cell_type": "code",
   "execution_count": null,
   "metadata": {
    "collapsed": true
   },
   "outputs": [],
   "source": [
    "src"
   ]
  },
  {
   "cell_type": "markdown",
   "metadata": {},
   "source": [
    "We new have a list of all skeletons in the project specified on the catmaid server. Lets take one of those skeletons and retrieve the neuron id. First we will take a look at the skeleton, defining it as my_skel, then we will define the neuron as my_neuron."
   ]
  },
  {
   "cell_type": "code",
   "execution_count": null,
   "metadata": {
    "collapsed": false
   },
   "outputs": [],
   "source": [
    "my_skel = src.get_skeleton(426385) #Defines my_skel as a single skeleton"
   ]
  },
  {
   "cell_type": "code",
   "execution_count": null,
   "metadata": {
    "collapsed": false
   },
   "outputs": [],
   "source": [
    "my_skel #Outputs skeleton information and confirms that my_skel is refrencing a working skeleton"
   ]
  },
  {
   "cell_type": "code",
   "execution_count": null,
   "metadata": {
    "collapsed": true
   },
   "outputs": [],
   "source": [
    "my_neuron = src.get_neuron(426385) #Defines my_neuron"
   ]
  },
  {
   "cell_type": "markdown",
   "metadata": {
    "collapsed": false
   },
   "source": [
    "With the neuron defined, we can use that to pull information about the neuron, such as the name, any annotations on the neuron, and the leaf nodes on the neuron."
   ]
  },
  {
   "cell_type": "code",
   "execution_count": null,
   "metadata": {
    "collapsed": false
   },
   "outputs": [],
   "source": [
    "my_neuron.name #Displays name of current neuron"
   ]
  },
  {
   "cell_type": "code",
   "execution_count": null,
   "metadata": {
    "collapsed": false
   },
   "outputs": [],
   "source": [
    "my_neuron.annotations #Displays annotations on selected neuron"
   ]
  },
  {
   "cell_type": "code",
   "execution_count": null,
   "metadata": {
    "collapsed": false,
    "scrolled": true
   },
   "outputs": [],
   "source": [
    "my_neuron.leaves #Dislays all leaf nodes of neuron"
   ]
  }
 ],
 "metadata": {
  "kernelspec": {
   "display_name": "Python 2",
   "language": "python",
   "name": "python2"
  },
  "language_info": {
   "codemirror_mode": {
    "name": "ipython",
    "version": 2
   },
   "file_extension": ".py",
   "mimetype": "text/x-python",
   "name": "python",
   "nbconvert_exporter": "python",
   "pygments_lexer": "ipython2",
   "version": "2.7.11"
  }
 },
 "nbformat": 4,
 "nbformat_minor": 0
}
